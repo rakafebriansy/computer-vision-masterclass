{
 "cells": [
  {
   "cell_type": "markdown",
   "metadata": {},
   "source": [
    "# Detecting Other Objects"
   ]
  },
  {
   "cell_type": "markdown",
   "metadata": {},
   "source": [
    "- There are some other .xml files in the Haarscascades folder. You can use them to detect cars, clocks and also the full body of people\n",
    "\n",
    "- There are also some other test images in the Images folder\n",
    "\n",
    "- The goal of this task is to use the haarcascades and the images in order to test the new classifiers. Try to get the best results possible using the parameters you have just learned"
   ]
  },
  {
   "cell_type": "code",
   "execution_count": null,
   "metadata": {},
   "outputs": [],
   "source": [
    "import cv2"
   ]
  },
  {
   "cell_type": "markdown",
   "metadata": {},
   "source": [
    "## Cars"
   ]
  },
  {
   "cell_type": "code",
   "execution_count": 74,
   "metadata": {},
   "outputs": [
    {
     "data": {
      "text/plain": [
       "(286, 468, 3)"
      ]
     },
     "execution_count": 74,
     "metadata": {},
     "output_type": "execute_result"
    }
   ],
   "source": [
    "image = image = cv2.imread('../../../contents/Images/car.jpg')\n",
    "image.shape"
   ]
  },
  {
   "cell_type": "code",
   "execution_count": null,
   "metadata": {},
   "outputs": [
    {
     "name": "stdout",
     "output_type": "stream",
     "text": [
      "car 42 42\n",
      "car 58 58\n",
      "car 58 58\n",
      "car 67 67\n",
      "car 89 89\n",
      "car 72 72\n",
      "car 156 156\n",
      "car 171 171\n",
      "car 111 111\n"
     ]
    }
   ],
   "source": [
    "resized_image = cv2.resize(image, (image.shape[1]*2, image.shape[0]*2), interpolation=cv2.INTER_CUBIC)\n",
    "gray_image = cv2.cvtColor(resized_image, cv2.COLOR_BGR2GRAY)\n",
    "cars_detector = cv2.CascadeClassifier('../../../contents/Cascades/cars.xml')\n",
    "if cars_detector.empty():\n",
    "    print(\"Error: Haar Cascade XML gagal dimuat!\")\n",
    "else:\n",
    "    car_detections = cars_detector.detectMultiScale(gray_image, scaleFactor=1.03, minNeighbors=8, minSize=(35,35))\n",
    "    for (x, y, w, h) in car_detections:\n",
    "        print('car',w,h)\n",
    "        cv2.rectangle(resized_image, (x, y), (x+w, y+h), (0,255,0), 2)\n",
    "        \n",
    "    cv2.imshow(\"Car\", resized_image)\n",
    "    cv2.waitKey(0)\n",
    "    cv2.destroyAllWindows()\n"
   ]
  },
  {
   "cell_type": "markdown",
   "metadata": {},
   "source": [
    "## Clocks"
   ]
  },
  {
   "cell_type": "code",
   "execution_count": 135,
   "metadata": {},
   "outputs": [
    {
     "data": {
      "text/plain": [
       "(438, 450, 3)"
      ]
     },
     "execution_count": 135,
     "metadata": {},
     "output_type": "execute_result"
    }
   ],
   "source": [
    "image = image = cv2.imread('../../../contents/Images/clock.jpg')\n",
    "image.shape"
   ]
  },
  {
   "cell_type": "code",
   "execution_count": null,
   "metadata": {},
   "outputs": [],
   "source": [
    "gray_image = cv2.cvtColor(image, cv2.COLOR_BGR2GRAY)\n",
    "clocks_detector = cv2.CascadeClassifier('../../../contents/Cascades/clocks.xml')\n",
    "if clocks_detector.empty():\n",
    "    print(\"Error: Haar Cascade XML gagal dimuat!\")\n",
    "else:\n",
    "    clock_detections = clocks_detector.detectMultiScale(gray_image, scaleFactor=1.03, minNeighbors=1)\n",
    "    for (x, y, w, h) in clock_detections:\n",
    "        cv2.rectangle(image, (x, y), (x+w, y+h), (0,255,0), 2)\n",
    "        \n",
    "    cv2.imshow(\"Clock\", image)\n",
    "    cv2.waitKey(0)\n",
    "    cv2.destroyAllWindows()\n"
   ]
  },
  {
   "cell_type": "markdown",
   "metadata": {},
   "source": [
    "## Fullbody"
   ]
  },
  {
   "cell_type": "code",
   "execution_count": 153,
   "metadata": {},
   "outputs": [
    {
     "data": {
      "text/plain": [
       "(294, 626, 3)"
      ]
     },
     "execution_count": 153,
     "metadata": {},
     "output_type": "execute_result"
    }
   ],
   "source": [
    "image = image = cv2.imread('../../../contents/Images/people3.jpg')\n",
    "image.shape"
   ]
  },
  {
   "cell_type": "code",
   "execution_count": 154,
   "metadata": {},
   "outputs": [
    {
     "name": "stdout",
     "output_type": "stream",
     "text": [
      "fullbody 66 132\n",
      "fullbody 88 176\n",
      "fullbody 83 165\n",
      "fullbody 75 149\n",
      "fullbody 81 162\n",
      "fullbody 94 188\n",
      "fullbody 93 187\n",
      "fullbody 81 162\n"
     ]
    }
   ],
   "source": [
    "gray_image = cv2.cvtColor(image, cv2.COLOR_BGR2GRAY)\n",
    "fullbody_detector = cv2.CascadeClassifier('../../../contents/Cascades/fullbody.xml')\n",
    "if fullbody_detector.empty():\n",
    "    print(\"Error: Haar Cascade XML gagal dimuat!\")\n",
    "else:\n",
    "    fullbody_detections = fullbody_detector.detectMultiScale(gray_image, scaleFactor=1.05, minNeighbors=5, minSize=(50,50))\n",
    "    for (x, y, w, h) in fullbody_detections:\n",
    "        print('fullbody', w, h)\n",
    "        cv2.rectangle(image, (x, y), (x+w, y+h), (0,255,0), 2)\n",
    "        \n",
    "    cv2.imshow(\"Fullbody\", image)\n",
    "    cv2.waitKey(0)\n",
    "    cv2.destroyAllWindows()"
   ]
  }
 ],
 "metadata": {
  "kernelspec": {
   "display_name": "Python (venv)",
   "language": "python",
   "name": "venv"
  },
  "language_info": {
   "codemirror_mode": {
    "name": "ipython",
    "version": 3
   },
   "file_extension": ".py",
   "mimetype": "text/x-python",
   "name": "python",
   "nbconvert_exporter": "python",
   "pygments_lexer": "ipython3",
   "version": "3.13.2"
  }
 },
 "nbformat": 4,
 "nbformat_minor": 2
}
