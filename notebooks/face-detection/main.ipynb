{
 "cells": [
  {
   "cell_type": "markdown",
   "metadata": {},
   "source": [
    "# Computer Vision - Face Detection"
   ]
  },
  {
   "cell_type": "markdown",
   "metadata": {},
   "source": [
    "## OpenCV"
   ]
  },
  {
   "cell_type": "markdown",
   "metadata": {},
   "source": [
    "### Loading the image"
   ]
  },
  {
   "cell_type": "code",
   "execution_count": 2,
   "metadata": {},
   "outputs": [],
   "source": [
    "# import OpenCV\n",
    "import cv2"
   ]
  },
  {
   "cell_type": "code",
   "execution_count": 3,
   "metadata": {},
   "outputs": [],
   "source": [
    "# import content\n",
    "image = cv2.imread('../../contents/Images/people1.jpg')"
   ]
  },
  {
   "cell_type": "code",
   "execution_count": 4,
   "metadata": {},
   "outputs": [
    {
     "data": {
      "text/plain": [
       "(1280, 1920, 3)"
      ]
     },
     "execution_count": 4,
     "metadata": {},
     "output_type": "execute_result"
    }
   ],
   "source": [
    "# dimensi gambar\n",
    "# height -> tinggi gambar\n",
    "# width -> lebar gambar\n",
    "# channels -> jumlah saluran warna (3 untuk RGB/BGR, 1 untuk grayscale)\n",
    "image.shape # (height, width, channels)"
   ]
  },
  {
   "cell_type": "code",
   "execution_count": 5,
   "metadata": {},
   "outputs": [
    {
     "data": {
      "text/plain": [
       "(600, 1000, 3)"
      ]
     },
     "execution_count": 5,
     "metadata": {},
     "output_type": "execute_result"
    }
   ],
   "source": [
    "# resize image\n",
    "resized_image = cv2.resize(image, (1000,600)) # mengubah ukuran dari gambar\n",
    "resized_image.shape"
   ]
  },
  {
   "cell_type": "code",
   "execution_count": 6,
   "metadata": {},
   "outputs": [
    {
     "data": {
      "text/plain": [
       "(600, 1000)"
      ]
     },
     "execution_count": 6,
     "metadata": {},
     "output_type": "execute_result"
    }
   ],
   "source": [
    "# convert into grayscale\n",
    "gray_image = cv2.cvtColor(resized_image, cv2.COLOR_BGR2GRAY) # mengubah warna dari gambar\n",
    "gray_image.shape"
   ]
  },
  {
   "cell_type": "code",
   "execution_count": 7,
   "metadata": {},
   "outputs": [],
   "source": [
    "if image is None:\n",
    "    print(\"Gambar tidak ditemukan!\")\n",
    "else:\n",
    "    cv2.imshow(\"Gambar\", gray_image) # menampilkan gambar atau frame video dalam window baru dengan OpenCV\n",
    "    cv2.waitKey(0) # menunggu input dari keyboard sebelum menutup window (argumen 0 berarti window tidak akan tertutup otomatis)\n",
    "    cv2.destroyAllWindows() # menutup semua window OpenCV yang terbuka (terdapat kemungkinan tidak tertutup dengan benar)"
   ]
  },
  {
   "cell_type": "markdown",
   "metadata": {},
   "source": [
    "### Detecting faces"
   ]
  },
  {
   "cell_type": "code",
   "execution_count": 8,
   "metadata": {},
   "outputs": [],
   "source": [
    "# load trained model\n",
    "face_detector = cv2.CascadeClassifier('../../contents/Cascades/haarcascade_frontalface_default.xml')"
   ]
  },
  {
   "cell_type": "code",
   "execution_count": 9,
   "metadata": {},
   "outputs": [],
   "source": [
    "# detect faces\n",
    "detections = face_detector.detectMultiScale(gray_image)"
   ]
  },
  {
   "cell_type": "code",
   "execution_count": 10,
   "metadata": {},
   "outputs": [
    {
     "data": {
      "text/plain": [
       "(5, 4)"
      ]
     },
     "execution_count": 10,
     "metadata": {},
     "output_type": "execute_result"
    }
   ],
   "source": [
    "# dimensi hasil deteksi\n",
    "detections.shape # 5 wajah terdeteksi, dengan 4 atribut"
   ]
  },
  {
   "cell_type": "code",
   "execution_count": 11,
   "metadata": {},
   "outputs": [
    {
     "data": {
      "text/plain": [
       "array([[853,  72,  71,  71],\n",
       "       [485, 228,  85,  85],\n",
       "       [120, 238,  69,  69],\n",
       "       [148, 120,  58,  58],\n",
       "       [600, 121,  63,  63]], dtype=int32)"
      ]
     },
     "execution_count": 11,
     "metadata": {},
     "output_type": "execute_result"
    }
   ],
   "source": [
    "# attribut hasil deteksi\n",
    "# index 0 -> posisi x axis\n",
    "# index 1 -> posisi y axis\n",
    "# index 2, 3 -> ukuran hasil deteksi (width, height)\n",
    "detections"
   ]
  },
  {
   "cell_type": "code",
   "execution_count": 15,
   "metadata": {},
   "outputs": [],
   "source": [
    "\n",
    "if resized_image is None:\n",
    "    print(\"Gambar tidak ditemukan!\")\n",
    "else:\n",
    "    for (x, y, w, h) in detections:\n",
    "        # titik akhir harus berupa x axis + lebar, y axis + tinggi agar bounding box terbentuk dengan benar\n",
    "        cv2.rectangle(resized_image, (x,y), (x + w, y + h), (0,255,0), 2) # (image, titik awal, titik akhir, format bgr, ketebalan garis)\n",
    "    cv2.imshow(\"Gambar\", resized_image)\n",
    "    cv2.waitKey(0)\n",
    "    cv2.destroyAllWindows()"
   ]
  }
 ],
 "metadata": {
  "kernelspec": {
   "display_name": "Python (venv)",
   "language": "python",
   "name": "venv"
  },
  "language_info": {
   "codemirror_mode": {
    "name": "ipython",
    "version": 3
   },
   "file_extension": ".py",
   "mimetype": "text/x-python",
   "name": "python",
   "nbconvert_exporter": "python",
   "pygments_lexer": "ipython3",
   "version": "3.13.2"
  }
 },
 "nbformat": 4,
 "nbformat_minor": 4
}
